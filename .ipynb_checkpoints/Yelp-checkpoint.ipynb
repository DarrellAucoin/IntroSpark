{
 "cells": [
  {
   "cell_type": "code",
   "execution_count": 1,
   "metadata": {
    "collapsed": true
   },
   "outputs": [],
   "source": [
    "from pyspark.sql import SQLContext\n",
    "sqlContext = SQLContext(sc)"
   ]
  },
  {
   "cell_type": "code",
   "execution_count": 2,
   "metadata": {
    "collapsed": true
   },
   "outputs": [],
   "source": [
    "business = sqlContext.jsonFile(\"file:/Volumes/256Gb/DataSets/yelp_dataset_challenge_academic_dataset/yelp_academic_dataset_business.json\")\n",
    "checkin = sqlContext.jsonFile(\"file:/Volumes/256Gb/DataSets/yelp_dataset_challenge_academic_dataset/yelp_academic_dataset_checkin.json\")\n",
    "review = sqlContext.jsonFile(\"file:/Volumes/256Gb/DataSets/yelp_dataset_challenge_academic_dataset/yelp_academic_dataset_review.json\")\n",
    "tip = sqlContext.jsonFile(\"file:/Volumes/256Gb/DataSets/yelp_dataset_challenge_academic_dataset/yelp_academic_dataset_tip.json\")\n",
    "user = sqlContext.jsonFile(\"file:/Volumes/256Gb/DataSets/yelp_dataset_challenge_academic_dataset/yelp_academic_dataset_user.json\")"
   ]
  },
  {
   "cell_type": "code",
   "execution_count": 4,
   "metadata": {
    "collapsed": false,
    "scrolled": false
   },
   "outputs": [
    {
     "name": "stdout",
     "output_type": "stream",
     "text": [
      "root\n",
      " |-- attributes: struct (nullable = true)\n",
      " |    |-- Accepts Credit Cards: string (nullable = true)\n",
      " |    |-- Accepts Insurance: boolean (nullable = true)\n",
      " |    |-- Ages Allowed: string (nullable = true)\n",
      " |    |-- Alcohol: string (nullable = true)\n",
      " |    |-- Ambience: struct (nullable = true)\n",
      " |    |    |-- casual: boolean (nullable = true)\n",
      " |    |    |-- classy: boolean (nullable = true)\n",
      " |    |    |-- divey: boolean (nullable = true)\n",
      " |    |    |-- hipster: boolean (nullable = true)\n",
      " |    |    |-- intimate: boolean (nullable = true)\n",
      " |    |    |-- romantic: boolean (nullable = true)\n",
      " |    |    |-- touristy: boolean (nullable = true)\n",
      " |    |    |-- trendy: boolean (nullable = true)\n",
      " |    |    |-- upscale: boolean (nullable = true)\n",
      " |    |-- Attire: string (nullable = true)\n",
      " |    |-- BYOB: boolean (nullable = true)\n",
      " |    |-- BYOB/Corkage: string (nullable = true)\n",
      " |    |-- By Appointment Only: boolean (nullable = true)\n",
      " |    |-- Caters: boolean (nullable = true)\n",
      " |    |-- Coat Check: boolean (nullable = true)\n",
      " |    |-- Corkage: boolean (nullable = true)\n",
      " |    |-- Delivery: boolean (nullable = true)\n",
      " |    |-- Dietary Restrictions: struct (nullable = true)\n",
      " |    |    |-- dairy-free: boolean (nullable = true)\n",
      " |    |    |-- gluten-free: boolean (nullable = true)\n",
      " |    |    |-- halal: boolean (nullable = true)\n",
      " |    |    |-- kosher: boolean (nullable = true)\n",
      " |    |    |-- soy-free: boolean (nullable = true)\n",
      " |    |    |-- vegan: boolean (nullable = true)\n",
      " |    |    |-- vegetarian: boolean (nullable = true)\n",
      " |    |-- Dogs Allowed: boolean (nullable = true)\n",
      " |    |-- Drive-Thru: boolean (nullable = true)\n",
      " |    |-- Good For: struct (nullable = true)\n",
      " |    |    |-- breakfast: boolean (nullable = true)\n",
      " |    |    |-- brunch: boolean (nullable = true)\n",
      " |    |    |-- dessert: boolean (nullable = true)\n",
      " |    |    |-- dinner: boolean (nullable = true)\n",
      " |    |    |-- latenight: boolean (nullable = true)\n",
      " |    |    |-- lunch: boolean (nullable = true)\n",
      " |    |-- Good For Dancing: boolean (nullable = true)\n",
      " |    |-- Good For Groups: boolean (nullable = true)\n",
      " |    |-- Good For Kids: boolean (nullable = true)\n",
      " |    |-- Good for Kids: boolean (nullable = true)\n",
      " |    |-- Hair Types Specialized In: struct (nullable = true)\n",
      " |    |    |-- africanamerican: boolean (nullable = true)\n",
      " |    |    |-- asian: boolean (nullable = true)\n",
      " |    |    |-- coloring: boolean (nullable = true)\n",
      " |    |    |-- curly: boolean (nullable = true)\n",
      " |    |    |-- extensions: boolean (nullable = true)\n",
      " |    |    |-- kids: boolean (nullable = true)\n",
      " |    |    |-- perms: boolean (nullable = true)\n",
      " |    |    |-- straightperms: boolean (nullable = true)\n",
      " |    |-- Happy Hour: boolean (nullable = true)\n",
      " |    |-- Has TV: boolean (nullable = true)\n",
      " |    |-- Music: struct (nullable = true)\n",
      " |    |    |-- background_music: boolean (nullable = true)\n",
      " |    |    |-- dj: boolean (nullable = true)\n",
      " |    |    |-- jukebox: boolean (nullable = true)\n",
      " |    |    |-- karaoke: boolean (nullable = true)\n",
      " |    |    |-- live: boolean (nullable = true)\n",
      " |    |    |-- playlist: boolean (nullable = true)\n",
      " |    |    |-- video: boolean (nullable = true)\n",
      " |    |-- Noise Level: string (nullable = true)\n",
      " |    |-- Open 24 Hours: boolean (nullable = true)\n",
      " |    |-- Order at Counter: boolean (nullable = true)\n",
      " |    |-- Outdoor Seating: boolean (nullable = true)\n",
      " |    |-- Parking: struct (nullable = true)\n",
      " |    |    |-- garage: boolean (nullable = true)\n",
      " |    |    |-- lot: boolean (nullable = true)\n",
      " |    |    |-- street: boolean (nullable = true)\n",
      " |    |    |-- valet: boolean (nullable = true)\n",
      " |    |    |-- validated: boolean (nullable = true)\n",
      " |    |-- Payment Types: struct (nullable = true)\n",
      " |    |    |-- amex: boolean (nullable = true)\n",
      " |    |    |-- cash_only: boolean (nullable = true)\n",
      " |    |    |-- discover: boolean (nullable = true)\n",
      " |    |    |-- mastercard: boolean (nullable = true)\n",
      " |    |    |-- visa: boolean (nullable = true)\n",
      " |    |-- Price Range: long (nullable = true)\n",
      " |    |-- Smoking: string (nullable = true)\n",
      " |    |-- Take-out: boolean (nullable = true)\n",
      " |    |-- Takes Reservations: boolean (nullable = true)\n",
      " |    |-- Waiter Service: boolean (nullable = true)\n",
      " |    |-- Wheelchair Accessible: boolean (nullable = true)\n",
      " |    |-- Wi-Fi: string (nullable = true)\n",
      " |-- business_id: string (nullable = true)\n",
      " |-- categories: array (nullable = true)\n",
      " |    |-- element: string (containsNull = true)\n",
      " |-- city: string (nullable = true)\n",
      " |-- full_address: string (nullable = true)\n",
      " |-- hours: struct (nullable = true)\n",
      " |    |-- Friday: struct (nullable = true)\n",
      " |    |    |-- close: string (nullable = true)\n",
      " |    |    |-- open: string (nullable = true)\n",
      " |    |-- Monday: struct (nullable = true)\n",
      " |    |    |-- close: string (nullable = true)\n",
      " |    |    |-- open: string (nullable = true)\n",
      " |    |-- Saturday: struct (nullable = true)\n",
      " |    |    |-- close: string (nullable = true)\n",
      " |    |    |-- open: string (nullable = true)\n",
      " |    |-- Sunday: struct (nullable = true)\n",
      " |    |    |-- close: string (nullable = true)\n",
      " |    |    |-- open: string (nullable = true)\n",
      " |    |-- Thursday: struct (nullable = true)\n",
      " |    |    |-- close: string (nullable = true)\n",
      " |    |    |-- open: string (nullable = true)\n",
      " |    |-- Tuesday: struct (nullable = true)\n",
      " |    |    |-- close: string (nullable = true)\n",
      " |    |    |-- open: string (nullable = true)\n",
      " |    |-- Wednesday: struct (nullable = true)\n",
      " |    |    |-- close: string (nullable = true)\n",
      " |    |    |-- open: string (nullable = true)\n",
      " |-- latitude: double (nullable = true)\n",
      " |-- longitude: double (nullable = true)\n",
      " |-- name: string (nullable = true)\n",
      " |-- neighborhoods: array (nullable = true)\n",
      " |    |-- element: string (containsNull = true)\n",
      " |-- open: boolean (nullable = true)\n",
      " |-- review_count: long (nullable = true)\n",
      " |-- stars: double (nullable = true)\n",
      " |-- state: string (nullable = true)\n",
      " |-- type: string (nullable = true)\n",
      "\n"
     ]
    }
   ],
   "source": [
    "business.printSchema()"
   ]
  },
  {
   "cell_type": "code",
   "execution_count": 16,
   "metadata": {
    "collapsed": false
   },
   "outputs": [
    {
     "ename": "Py4JJavaError",
     "evalue": "An error occurred while calling o37.showString.\n: org.apache.spark.SparkException: Job aborted due to stage failure: Task 0 in stage 18.0 failed 1 times, most recent failure: Lost task 0.0 in stage 18.0 (TID 68, localhost): org.apache.hadoop.fs.FSError: java.io.IOException: Input/output error\n\tat org.apache.hadoop.fs.RawLocalFileSystem$LocalFSFileInputStream.read(RawLocalFileSystem.java:161)\n\tat java.io.BufferedInputStream.read1(BufferedInputStream.java:273)\n\tat java.io.BufferedInputStream.read(BufferedInputStream.java:334)\n\tat java.io.DataInputStream.read(DataInputStream.java:149)\n\tat org.apache.hadoop.fs.FSInputChecker.readFully(FSInputChecker.java:436)\n\tat org.apache.hadoop.fs.ChecksumFileSystem$ChecksumFSInputChecker.readChunk(ChecksumFileSystem.java:252)\n\tat org.apache.hadoop.fs.FSInputChecker.readChecksumChunk(FSInputChecker.java:276)\n\tat org.apache.hadoop.fs.FSInputChecker.read1(FSInputChecker.java:228)\n\tat org.apache.hadoop.fs.FSInputChecker.read(FSInputChecker.java:196)\n\tat java.io.DataInputStream.read(DataInputStream.java:100)\n\tat org.apache.hadoop.util.LineReader.fillBuffer(LineReader.java:180)\n\tat org.apache.hadoop.util.LineReader.readDefaultLine(LineReader.java:216)\n\tat org.apache.hadoop.util.LineReader.readLine(LineReader.java:174)\n\tat org.apache.hadoop.mapred.LineRecordReader.skipUtfByteOrderMark(LineRecordReader.java:206)\n\tat org.apache.hadoop.mapred.LineRecordReader.next(LineRecordReader.java:244)\n\tat org.apache.hadoop.mapred.LineRecordReader.next(LineRecordReader.java:47)\n\tat org.apache.spark.rdd.HadoopRDD$$anon$1.getNext(HadoopRDD.scala:245)\n\tat org.apache.spark.rdd.HadoopRDD$$anon$1.getNext(HadoopRDD.scala:212)\n\tat org.apache.spark.util.NextIterator.hasNext(NextIterator.scala:71)\n\tat org.apache.spark.InterruptibleIterator.hasNext(InterruptibleIterator.scala:39)\n\tat scala.collection.Iterator$$anon$11.hasNext(Iterator.scala:327)\n\tat scala.collection.Iterator$$anon$13.hasNext(Iterator.scala:371)\n\tat scala.collection.Iterator$$anon$11.hasNext(Iterator.scala:327)\n\tat scala.collection.Iterator$$anon$11.hasNext(Iterator.scala:327)\n\tat scala.collection.Iterator$$anon$11.hasNext(Iterator.scala:327)\n\tat scala.collection.Iterator$$anon$10.hasNext(Iterator.scala:308)\n\tat scala.collection.Iterator$class.foreach(Iterator.scala:727)\n\tat scala.collection.AbstractIterator.foreach(Iterator.scala:1157)\n\tat scala.collection.generic.Growable$class.$plus$plus$eq(Growable.scala:48)\n\tat scala.collection.mutable.ArrayBuffer.$plus$plus$eq(ArrayBuffer.scala:103)\n\tat scala.collection.mutable.ArrayBuffer.$plus$plus$eq(ArrayBuffer.scala:47)\n\tat scala.collection.TraversableOnce$class.to(TraversableOnce.scala:273)\n\tat scala.collection.AbstractIterator.to(Iterator.scala:1157)\n\tat scala.collection.TraversableOnce$class.toBuffer(TraversableOnce.scala:265)\n\tat scala.collection.AbstractIterator.toBuffer(Iterator.scala:1157)\n\tat scala.collection.TraversableOnce$class.toArray(TraversableOnce.scala:252)\n\tat scala.collection.AbstractIterator.toArray(Iterator.scala:1157)\n\tat org.apache.spark.sql.execution.SparkPlan$$anonfun$2.apply(SparkPlan.scala:122)\n\tat org.apache.spark.sql.execution.SparkPlan$$anonfun$2.apply(SparkPlan.scala:122)\n\tat org.apache.spark.SparkContext$$anonfun$runJob$5.apply(SparkContext.scala:1498)\n\tat org.apache.spark.SparkContext$$anonfun$runJob$5.apply(SparkContext.scala:1498)\n\tat org.apache.spark.scheduler.ResultTask.runTask(ResultTask.scala:61)\n\tat org.apache.spark.scheduler.Task.run(Task.scala:64)\n\tat org.apache.spark.executor.Executor$TaskRunner.run(Executor.scala:203)\n\tat java.util.concurrent.ThreadPoolExecutor.runWorker(ThreadPoolExecutor.java:1145)\n\tat java.util.concurrent.ThreadPoolExecutor$Worker.run(ThreadPoolExecutor.java:615)\n\tat java.lang.Thread.run(Thread.java:745)\nCaused by: java.io.IOException: Input/output error\n\tat java.io.FileInputStream.readBytes(Native Method)\n\tat java.io.FileInputStream.read(FileInputStream.java:272)\n\tat org.apache.hadoop.fs.RawLocalFileSystem$LocalFSFileInputStream.read(RawLocalFileSystem.java:154)\n\t... 46 more\n\nDriver stacktrace:\n\tat org.apache.spark.scheduler.DAGScheduler.org$apache$spark$scheduler$DAGScheduler$$failJobAndIndependentStages(DAGScheduler.scala:1204)\n\tat org.apache.spark.scheduler.DAGScheduler$$anonfun$abortStage$1.apply(DAGScheduler.scala:1193)\n\tat org.apache.spark.scheduler.DAGScheduler$$anonfun$abortStage$1.apply(DAGScheduler.scala:1192)\n\tat scala.collection.mutable.ResizableArray$class.foreach(ResizableArray.scala:59)\n\tat scala.collection.mutable.ArrayBuffer.foreach(ArrayBuffer.scala:47)\n\tat org.apache.spark.scheduler.DAGScheduler.abortStage(DAGScheduler.scala:1192)\n\tat org.apache.spark.scheduler.DAGScheduler$$anonfun$handleTaskSetFailed$1.apply(DAGScheduler.scala:693)\n\tat org.apache.spark.scheduler.DAGScheduler$$anonfun$handleTaskSetFailed$1.apply(DAGScheduler.scala:693)\n\tat scala.Option.foreach(Option.scala:236)\n\tat org.apache.spark.scheduler.DAGScheduler.handleTaskSetFailed(DAGScheduler.scala:693)\n\tat org.apache.spark.scheduler.DAGSchedulerEventProcessLoop.onReceive(DAGScheduler.scala:1393)\n\tat org.apache.spark.scheduler.DAGSchedulerEventProcessLoop.onReceive(DAGScheduler.scala:1354)\n\tat org.apache.spark.util.EventLoop$$anon$1.run(EventLoop.scala:48)\n",
     "output_type": "error",
     "traceback": [
      "\u001b[0;31m---------------------------------------------------------------------------\u001b[0m",
      "\u001b[0;31mPy4JJavaError\u001b[0m                             Traceback (most recent call last)",
      "\u001b[0;32m<ipython-input-16-fd067da36e05>\u001b[0m in \u001b[0;36m<module>\u001b[0;34m()\u001b[0m\n\u001b[0;32m----> 1\u001b[0;31m \u001b[0mbusiness\u001b[0m\u001b[0;34m.\u001b[0m\u001b[0mselect\u001b[0m\u001b[0;34m(\u001b[0m\u001b[0;34m\"latitude\"\u001b[0m\u001b[0;34m)\u001b[0m\u001b[0;34m.\u001b[0m\u001b[0mshow\u001b[0m\u001b[0;34m(\u001b[0m\u001b[0;34m)\u001b[0m\u001b[0;34m\u001b[0m\u001b[0m\n\u001b[0m",
      "\u001b[0;32m/usr/local/spark/1.3.1/python/pyspark/sql/dataframe.pyc\u001b[0m in \u001b[0;36mshow\u001b[0;34m(self, n)\u001b[0m\n\u001b[1;32m    271\u001b[0m         \u001b[0;36m5\u001b[0m   \u001b[0mBob\u001b[0m\u001b[0;34m\u001b[0m\u001b[0m\n\u001b[1;32m    272\u001b[0m         \"\"\"\n\u001b[0;32m--> 273\u001b[0;31m         \u001b[0;32mprint\u001b[0m \u001b[0mself\u001b[0m\u001b[0;34m.\u001b[0m\u001b[0m_jdf\u001b[0m\u001b[0;34m.\u001b[0m\u001b[0mshowString\u001b[0m\u001b[0;34m(\u001b[0m\u001b[0mn\u001b[0m\u001b[0;34m)\u001b[0m\u001b[0;34m.\u001b[0m\u001b[0mencode\u001b[0m\u001b[0;34m(\u001b[0m\u001b[0;34m'utf8'\u001b[0m\u001b[0;34m,\u001b[0m \u001b[0;34m'ignore'\u001b[0m\u001b[0;34m)\u001b[0m\u001b[0;34m\u001b[0m\u001b[0m\n\u001b[0m\u001b[1;32m    274\u001b[0m \u001b[0;34m\u001b[0m\u001b[0m\n\u001b[1;32m    275\u001b[0m     \u001b[0;32mdef\u001b[0m \u001b[0m__repr__\u001b[0m\u001b[0;34m(\u001b[0m\u001b[0mself\u001b[0m\u001b[0;34m)\u001b[0m\u001b[0;34m:\u001b[0m\u001b[0;34m\u001b[0m\u001b[0m\n",
      "\u001b[0;32m/usr/local/spark/1.3.1/python/lib/py4j-0.8.2.1-src.zip/py4j/java_gateway.py\u001b[0m in \u001b[0;36m__call__\u001b[0;34m(self, *args)\u001b[0m\n\u001b[1;32m    536\u001b[0m         \u001b[0manswer\u001b[0m \u001b[0;34m=\u001b[0m \u001b[0mself\u001b[0m\u001b[0;34m.\u001b[0m\u001b[0mgateway_client\u001b[0m\u001b[0;34m.\u001b[0m\u001b[0msend_command\u001b[0m\u001b[0;34m(\u001b[0m\u001b[0mcommand\u001b[0m\u001b[0;34m)\u001b[0m\u001b[0;34m\u001b[0m\u001b[0m\n\u001b[1;32m    537\u001b[0m         return_value = get_return_value(answer, self.gateway_client,\n\u001b[0;32m--> 538\u001b[0;31m                 self.target_id, self.name)\n\u001b[0m\u001b[1;32m    539\u001b[0m \u001b[0;34m\u001b[0m\u001b[0m\n\u001b[1;32m    540\u001b[0m         \u001b[0;32mfor\u001b[0m \u001b[0mtemp_arg\u001b[0m \u001b[0;32min\u001b[0m \u001b[0mtemp_args\u001b[0m\u001b[0;34m:\u001b[0m\u001b[0;34m\u001b[0m\u001b[0m\n",
      "\u001b[0;32m/usr/local/spark/1.3.1/python/lib/py4j-0.8.2.1-src.zip/py4j/protocol.py\u001b[0m in \u001b[0;36mget_return_value\u001b[0;34m(answer, gateway_client, target_id, name)\u001b[0m\n\u001b[1;32m    298\u001b[0m                 raise Py4JJavaError(\n\u001b[1;32m    299\u001b[0m                     \u001b[0;34m'An error occurred while calling {0}{1}{2}.\\n'\u001b[0m\u001b[0;34m.\u001b[0m\u001b[0;34m\u001b[0m\u001b[0m\n\u001b[0;32m--> 300\u001b[0;31m                     format(target_id, '.', name), value)\n\u001b[0m\u001b[1;32m    301\u001b[0m             \u001b[0;32melse\u001b[0m\u001b[0;34m:\u001b[0m\u001b[0;34m\u001b[0m\u001b[0m\n\u001b[1;32m    302\u001b[0m                 raise Py4JError(\n",
      "\u001b[0;31mPy4JJavaError\u001b[0m: An error occurred while calling o37.showString.\n: org.apache.spark.SparkException: Job aborted due to stage failure: Task 0 in stage 18.0 failed 1 times, most recent failure: Lost task 0.0 in stage 18.0 (TID 68, localhost): org.apache.hadoop.fs.FSError: java.io.IOException: Input/output error\n\tat org.apache.hadoop.fs.RawLocalFileSystem$LocalFSFileInputStream.read(RawLocalFileSystem.java:161)\n\tat java.io.BufferedInputStream.read1(BufferedInputStream.java:273)\n\tat java.io.BufferedInputStream.read(BufferedInputStream.java:334)\n\tat java.io.DataInputStream.read(DataInputStream.java:149)\n\tat org.apache.hadoop.fs.FSInputChecker.readFully(FSInputChecker.java:436)\n\tat org.apache.hadoop.fs.ChecksumFileSystem$ChecksumFSInputChecker.readChunk(ChecksumFileSystem.java:252)\n\tat org.apache.hadoop.fs.FSInputChecker.readChecksumChunk(FSInputChecker.java:276)\n\tat org.apache.hadoop.fs.FSInputChecker.read1(FSInputChecker.java:228)\n\tat org.apache.hadoop.fs.FSInputChecker.read(FSInputChecker.java:196)\n\tat java.io.DataInputStream.read(DataInputStream.java:100)\n\tat org.apache.hadoop.util.LineReader.fillBuffer(LineReader.java:180)\n\tat org.apache.hadoop.util.LineReader.readDefaultLine(LineReader.java:216)\n\tat org.apache.hadoop.util.LineReader.readLine(LineReader.java:174)\n\tat org.apache.hadoop.mapred.LineRecordReader.skipUtfByteOrderMark(LineRecordReader.java:206)\n\tat org.apache.hadoop.mapred.LineRecordReader.next(LineRecordReader.java:244)\n\tat org.apache.hadoop.mapred.LineRecordReader.next(LineRecordReader.java:47)\n\tat org.apache.spark.rdd.HadoopRDD$$anon$1.getNext(HadoopRDD.scala:245)\n\tat org.apache.spark.rdd.HadoopRDD$$anon$1.getNext(HadoopRDD.scala:212)\n\tat org.apache.spark.util.NextIterator.hasNext(NextIterator.scala:71)\n\tat org.apache.spark.InterruptibleIterator.hasNext(InterruptibleIterator.scala:39)\n\tat scala.collection.Iterator$$anon$11.hasNext(Iterator.scala:327)\n\tat scala.collection.Iterator$$anon$13.hasNext(Iterator.scala:371)\n\tat scala.collection.Iterator$$anon$11.hasNext(Iterator.scala:327)\n\tat scala.collection.Iterator$$anon$11.hasNext(Iterator.scala:327)\n\tat scala.collection.Iterator$$anon$11.hasNext(Iterator.scala:327)\n\tat scala.collection.Iterator$$anon$10.hasNext(Iterator.scala:308)\n\tat scala.collection.Iterator$class.foreach(Iterator.scala:727)\n\tat scala.collection.AbstractIterator.foreach(Iterator.scala:1157)\n\tat scala.collection.generic.Growable$class.$plus$plus$eq(Growable.scala:48)\n\tat scala.collection.mutable.ArrayBuffer.$plus$plus$eq(ArrayBuffer.scala:103)\n\tat scala.collection.mutable.ArrayBuffer.$plus$plus$eq(ArrayBuffer.scala:47)\n\tat scala.collection.TraversableOnce$class.to(TraversableOnce.scala:273)\n\tat scala.collection.AbstractIterator.to(Iterator.scala:1157)\n\tat scala.collection.TraversableOnce$class.toBuffer(TraversableOnce.scala:265)\n\tat scala.collection.AbstractIterator.toBuffer(Iterator.scala:1157)\n\tat scala.collection.TraversableOnce$class.toArray(TraversableOnce.scala:252)\n\tat scala.collection.AbstractIterator.toArray(Iterator.scala:1157)\n\tat org.apache.spark.sql.execution.SparkPlan$$anonfun$2.apply(SparkPlan.scala:122)\n\tat org.apache.spark.sql.execution.SparkPlan$$anonfun$2.apply(SparkPlan.scala:122)\n\tat org.apache.spark.SparkContext$$anonfun$runJob$5.apply(SparkContext.scala:1498)\n\tat org.apache.spark.SparkContext$$anonfun$runJob$5.apply(SparkContext.scala:1498)\n\tat org.apache.spark.scheduler.ResultTask.runTask(ResultTask.scala:61)\n\tat org.apache.spark.scheduler.Task.run(Task.scala:64)\n\tat org.apache.spark.executor.Executor$TaskRunner.run(Executor.scala:203)\n\tat java.util.concurrent.ThreadPoolExecutor.runWorker(ThreadPoolExecutor.java:1145)\n\tat java.util.concurrent.ThreadPoolExecutor$Worker.run(ThreadPoolExecutor.java:615)\n\tat java.lang.Thread.run(Thread.java:745)\nCaused by: java.io.IOException: Input/output error\n\tat java.io.FileInputStream.readBytes(Native Method)\n\tat java.io.FileInputStream.read(FileInputStream.java:272)\n\tat org.apache.hadoop.fs.RawLocalFileSystem$LocalFSFileInputStream.read(RawLocalFileSystem.java:154)\n\t... 46 more\n\nDriver stacktrace:\n\tat org.apache.spark.scheduler.DAGScheduler.org$apache$spark$scheduler$DAGScheduler$$failJobAndIndependentStages(DAGScheduler.scala:1204)\n\tat org.apache.spark.scheduler.DAGScheduler$$anonfun$abortStage$1.apply(DAGScheduler.scala:1193)\n\tat org.apache.spark.scheduler.DAGScheduler$$anonfun$abortStage$1.apply(DAGScheduler.scala:1192)\n\tat scala.collection.mutable.ResizableArray$class.foreach(ResizableArray.scala:59)\n\tat scala.collection.mutable.ArrayBuffer.foreach(ArrayBuffer.scala:47)\n\tat org.apache.spark.scheduler.DAGScheduler.abortStage(DAGScheduler.scala:1192)\n\tat org.apache.spark.scheduler.DAGScheduler$$anonfun$handleTaskSetFailed$1.apply(DAGScheduler.scala:693)\n\tat org.apache.spark.scheduler.DAGScheduler$$anonfun$handleTaskSetFailed$1.apply(DAGScheduler.scala:693)\n\tat scala.Option.foreach(Option.scala:236)\n\tat org.apache.spark.scheduler.DAGScheduler.handleTaskSetFailed(DAGScheduler.scala:693)\n\tat org.apache.spark.scheduler.DAGSchedulerEventProcessLoop.onReceive(DAGScheduler.scala:1393)\n\tat org.apache.spark.scheduler.DAGSchedulerEventProcessLoop.onReceive(DAGScheduler.scala:1354)\n\tat org.apache.spark.util.EventLoop$$anon$1.run(EventLoop.scala:48)\n"
     ]
    }
   ],
   "source": [
    "business.select(\"latitude\").show()"
   ]
  },
  {
   "cell_type": "code",
   "execution_count": 5,
   "metadata": {
    "collapsed": false
   },
   "outputs": [
    {
     "name": "stdout",
     "output_type": "stream",
     "text": [
      "root\n",
      " |-- business_id: string (nullable = true)\n",
      " |-- checkin_info: struct (nullable = true)\n",
      " |    |-- 0-0: long (nullable = true)\n",
      " |    |-- 0-1: long (nullable = true)\n",
      " |    |-- 0-2: long (nullable = true)\n",
      " |    |-- 0-3: long (nullable = true)\n",
      " |    |-- 0-4: long (nullable = true)\n",
      " |    |-- 0-5: long (nullable = true)\n",
      " |    |-- 0-6: long (nullable = true)\n",
      " |    |-- 1-0: long (nullable = true)\n",
      " |    |-- 1-1: long (nullable = true)\n",
      " |    |-- 1-2: long (nullable = true)\n",
      " |    |-- 1-3: long (nullable = true)\n",
      " |    |-- 1-4: long (nullable = true)\n",
      " |    |-- 1-5: long (nullable = true)\n",
      " |    |-- 1-6: long (nullable = true)\n",
      " |    |-- 10-0: long (nullable = true)\n",
      " |    |-- 10-1: long (nullable = true)\n",
      " |    |-- 10-2: long (nullable = true)\n",
      " |    |-- 10-3: long (nullable = true)\n",
      " |    |-- 10-4: long (nullable = true)\n",
      " |    |-- 10-5: long (nullable = true)\n",
      " |    |-- 10-6: long (nullable = true)\n",
      " |    |-- 11-0: long (nullable = true)\n",
      " |    |-- 11-1: long (nullable = true)\n",
      " |    |-- 11-2: long (nullable = true)\n",
      " |    |-- 11-3: long (nullable = true)\n",
      " |    |-- 11-4: long (nullable = true)\n",
      " |    |-- 11-5: long (nullable = true)\n",
      " |    |-- 11-6: long (nullable = true)\n",
      " |    |-- 12-0: long (nullable = true)\n",
      " |    |-- 12-1: long (nullable = true)\n",
      " |    |-- 12-2: long (nullable = true)\n",
      " |    |-- 12-3: long (nullable = true)\n",
      " |    |-- 12-4: long (nullable = true)\n",
      " |    |-- 12-5: long (nullable = true)\n",
      " |    |-- 12-6: long (nullable = true)\n",
      " |    |-- 13-0: long (nullable = true)\n",
      " |    |-- 13-1: long (nullable = true)\n",
      " |    |-- 13-2: long (nullable = true)\n",
      " |    |-- 13-3: long (nullable = true)\n",
      " |    |-- 13-4: long (nullable = true)\n",
      " |    |-- 13-5: long (nullable = true)\n",
      " |    |-- 13-6: long (nullable = true)\n",
      " |    |-- 14-0: long (nullable = true)\n",
      " |    |-- 14-1: long (nullable = true)\n",
      " |    |-- 14-2: long (nullable = true)\n",
      " |    |-- 14-3: long (nullable = true)\n",
      " |    |-- 14-4: long (nullable = true)\n",
      " |    |-- 14-5: long (nullable = true)\n",
      " |    |-- 14-6: long (nullable = true)\n",
      " |    |-- 15-0: long (nullable = true)\n",
      " |    |-- 15-1: long (nullable = true)\n",
      " |    |-- 15-2: long (nullable = true)\n",
      " |    |-- 15-3: long (nullable = true)\n",
      " |    |-- 15-4: long (nullable = true)\n",
      " |    |-- 15-5: long (nullable = true)\n",
      " |    |-- 15-6: long (nullable = true)\n",
      " |    |-- 16-0: long (nullable = true)\n",
      " |    |-- 16-1: long (nullable = true)\n",
      " |    |-- 16-2: long (nullable = true)\n",
      " |    |-- 16-3: long (nullable = true)\n",
      " |    |-- 16-4: long (nullable = true)\n",
      " |    |-- 16-5: long (nullable = true)\n",
      " |    |-- 16-6: long (nullable = true)\n",
      " |    |-- 17-0: long (nullable = true)\n",
      " |    |-- 17-1: long (nullable = true)\n",
      " |    |-- 17-2: long (nullable = true)\n",
      " |    |-- 17-3: long (nullable = true)\n",
      " |    |-- 17-4: long (nullable = true)\n",
      " |    |-- 17-5: long (nullable = true)\n",
      " |    |-- 17-6: long (nullable = true)\n",
      " |    |-- 18-0: long (nullable = true)\n",
      " |    |-- 18-1: long (nullable = true)\n",
      " |    |-- 18-2: long (nullable = true)\n",
      " |    |-- 18-3: long (nullable = true)\n",
      " |    |-- 18-4: long (nullable = true)\n",
      " |    |-- 18-5: long (nullable = true)\n",
      " |    |-- 18-6: long (nullable = true)\n",
      " |    |-- 19-0: long (nullable = true)\n",
      " |    |-- 19-1: long (nullable = true)\n",
      " |    |-- 19-2: long (nullable = true)\n",
      " |    |-- 19-3: long (nullable = true)\n",
      " |    |-- 19-4: long (nullable = true)\n",
      " |    |-- 19-5: long (nullable = true)\n",
      " |    |-- 19-6: long (nullable = true)\n",
      " |    |-- 2-0: long (nullable = true)\n",
      " |    |-- 2-1: long (nullable = true)\n",
      " |    |-- 2-2: long (nullable = true)\n",
      " |    |-- 2-3: long (nullable = true)\n",
      " |    |-- 2-4: long (nullable = true)\n",
      " |    |-- 2-5: long (nullable = true)\n",
      " |    |-- 2-6: long (nullable = true)\n",
      " |    |-- 20-0: long (nullable = true)\n",
      " |    |-- 20-1: long (nullable = true)\n",
      " |    |-- 20-2: long (nullable = true)\n",
      " |    |-- 20-3: long (nullable = true)\n",
      " |    |-- 20-4: long (nullable = true)\n",
      " |    |-- 20-5: long (nullable = true)\n",
      " |    |-- 20-6: long (nullable = true)\n",
      " |    |-- 21-0: long (nullable = true)\n",
      " |    |-- 21-1: long (nullable = true)\n",
      " |    |-- 21-2: long (nullable = true)\n",
      " |    |-- 21-3: long (nullable = true)\n",
      " |    |-- 21-4: long (nullable = true)\n",
      " |    |-- 21-5: long (nullable = true)\n",
      " |    |-- 21-6: long (nullable = true)\n",
      " |    |-- 22-0: long (nullable = true)\n",
      " |    |-- 22-1: long (nullable = true)\n",
      " |    |-- 22-2: long (nullable = true)\n",
      " |    |-- 22-3: long (nullable = true)\n",
      " |    |-- 22-4: long (nullable = true)\n",
      " |    |-- 22-5: long (nullable = true)\n",
      " |    |-- 22-6: long (nullable = true)\n",
      " |    |-- 23-0: long (nullable = true)\n",
      " |    |-- 23-1: long (nullable = true)\n",
      " |    |-- 23-2: long (nullable = true)\n",
      " |    |-- 23-3: long (nullable = true)\n",
      " |    |-- 23-4: long (nullable = true)\n",
      " |    |-- 23-5: long (nullable = true)\n",
      " |    |-- 23-6: long (nullable = true)\n",
      " |    |-- 3-0: long (nullable = true)\n",
      " |    |-- 3-1: long (nullable = true)\n",
      " |    |-- 3-2: long (nullable = true)\n",
      " |    |-- 3-3: long (nullable = true)\n",
      " |    |-- 3-4: long (nullable = true)\n",
      " |    |-- 3-5: long (nullable = true)\n",
      " |    |-- 3-6: long (nullable = true)\n",
      " |    |-- 4-0: long (nullable = true)\n",
      " |    |-- 4-1: long (nullable = true)\n",
      " |    |-- 4-2: long (nullable = true)\n",
      " |    |-- 4-3: long (nullable = true)\n",
      " |    |-- 4-4: long (nullable = true)\n",
      " |    |-- 4-5: long (nullable = true)\n",
      " |    |-- 4-6: long (nullable = true)\n",
      " |    |-- 5-0: long (nullable = true)\n",
      " |    |-- 5-1: long (nullable = true)\n",
      " |    |-- 5-2: long (nullable = true)\n",
      " |    |-- 5-3: long (nullable = true)\n",
      " |    |-- 5-4: long (nullable = true)\n",
      " |    |-- 5-5: long (nullable = true)\n",
      " |    |-- 5-6: long (nullable = true)\n",
      " |    |-- 6-0: long (nullable = true)\n",
      " |    |-- 6-1: long (nullable = true)\n",
      " |    |-- 6-2: long (nullable = true)\n",
      " |    |-- 6-3: long (nullable = true)\n",
      " |    |-- 6-4: long (nullable = true)\n",
      " |    |-- 6-5: long (nullable = true)\n",
      " |    |-- 6-6: long (nullable = true)\n",
      " |    |-- 7-0: long (nullable = true)\n",
      " |    |-- 7-1: long (nullable = true)\n",
      " |    |-- 7-2: long (nullable = true)\n",
      " |    |-- 7-3: long (nullable = true)\n",
      " |    |-- 7-4: long (nullable = true)\n",
      " |    |-- 7-5: long (nullable = true)\n",
      " |    |-- 7-6: long (nullable = true)\n",
      " |    |-- 8-0: long (nullable = true)\n",
      " |    |-- 8-1: long (nullable = true)\n",
      " |    |-- 8-2: long (nullable = true)\n",
      " |    |-- 8-3: long (nullable = true)\n",
      " |    |-- 8-4: long (nullable = true)\n",
      " |    |-- 8-5: long (nullable = true)\n",
      " |    |-- 8-6: long (nullable = true)\n",
      " |    |-- 9-0: long (nullable = true)\n",
      " |    |-- 9-1: long (nullable = true)\n",
      " |    |-- 9-2: long (nullable = true)\n",
      " |    |-- 9-3: long (nullable = true)\n",
      " |    |-- 9-4: long (nullable = true)\n",
      " |    |-- 9-5: long (nullable = true)\n",
      " |    |-- 9-6: long (nullable = true)\n",
      " |-- type: string (nullable = true)\n",
      "\n"
     ]
    }
   ],
   "source": [
    "checkin.printSchema()"
   ]
  },
  {
   "cell_type": "code",
   "execution_count": 11,
   "metadata": {
    "collapsed": false
   },
   "outputs": [
    {
     "name": "stdout",
     "output_type": "stream",
     "text": [
      "business_id          checkin_info         type   \n",
      "cE27W9VPgO88Qxe4o... [null,null,null,n... checkin\n",
      "mVHrayjG3uZ_RLHkL... [null,null,null,n... checkin\n",
      "KayYbHCt-RkbGcPdG... [null,null,null,n... checkin\n",
      "wJr6kSA5dchdgOdwH... [null,null,null,n... checkin\n",
      "yXuao0pFz1AxB21vJ... [null,null,null,n... checkin\n",
      "fNGIbpazjTRdXgwRY... [null,null,null,n... checkin\n",
      "b9WZJp5L1RZr4F1nx... [null,null,null,n... checkin\n",
      "zaXDakTd3RXyOa7sM... [null,null,null,n... checkin\n",
      "zgy27FSnvwdINfk5c... [null,null,null,n... checkin\n",
      "WETE_LykpcnrC1sFc... [null,null,null,n... checkin\n",
      "SQ0j7bgSTazkVQlF5... [null,null,null,n... checkin\n",
      "wqu7ILomIOPSduRwo... [null,null,null,n... checkin\n",
      "P1fJb2WQ1mXoiudj8... [null,null,null,n... checkin\n",
      "PK6aSizckHFWk8i0o... [null,null,null,n... checkin\n",
      "3gmBc0qN_LtGbZAjT... [null,null,null,n... checkin\n",
      "yHTLTr-QN-loO_7Xo... [null,null,null,n... checkin\n",
      "6ilJq_05xRgek_8qU... [null,1,null,null... checkin\n",
      "MKyk4F4HSzHF8v-4c... [null,null,null,n... checkin\n",
      "gClSqcwuLsgyZRCzh... [null,null,null,n... checkin\n",
      "1qCuOcks5HRv67OHo... [null,null,null,n... checkin\n"
     ]
    }
   ],
   "source": [
    "checkin.show()"
   ]
  },
  {
   "cell_type": "code",
   "execution_count": 6,
   "metadata": {
    "collapsed": false
   },
   "outputs": [
    {
     "name": "stdout",
     "output_type": "stream",
     "text": [
      "root\n",
      " |-- business_id: string (nullable = true)\n",
      " |-- date: string (nullable = true)\n",
      " |-- review_id: string (nullable = true)\n",
      " |-- stars: long (nullable = true)\n",
      " |-- text: string (nullable = true)\n",
      " |-- type: string (nullable = true)\n",
      " |-- user_id: string (nullable = true)\n",
      " |-- votes: struct (nullable = true)\n",
      " |    |-- cool: long (nullable = true)\n",
      " |    |-- funny: long (nullable = true)\n",
      " |    |-- useful: long (nullable = true)\n",
      "\n"
     ]
    }
   ],
   "source": [
    "review.printSchema()"
   ]
  },
  {
   "cell_type": "code",
   "execution_count": 12,
   "metadata": {
    "collapsed": false
   },
   "outputs": [
    {
     "name": "stdout",
     "output_type": "stream",
     "text": [
      "business_id          date       review_id            stars text                 type   user_id              votes  \n",
      "vcNAWiLM4dR7D2nww... 2007-05-17 15SdjuK7DmYqUAj6r... 5     dr. goldberg offe... review Xqd0DzHaiyRqVH3WR... [1,0,2]\n",
      "vcNAWiLM4dR7D2nww... 2010-03-22 RF6UnRTtG7tWMcrO2... 2     Unfortunately, th... review H1kH6QZV7Le4zqTRN... [0,0,2]\n",
      "vcNAWiLM4dR7D2nww... 2012-02-14 -TsVN230RCkLYKBeL... 4     Dr. Goldberg has ... review zvJCcrpm2yOZrxKff... [1,0,1]\n",
      "vcNAWiLM4dR7D2nww... 2012-03-02 dNocEAyUucjT371NN... 4     Been going to Dr.... review KBLW4wJA_fwoWmMhi... [0,0,0]\n",
      "vcNAWiLM4dR7D2nww... 2012-05-15 ebcN2aqmNUuYNoyvQ... 4     Got a letter in t... review zvJCcrpm2yOZrxKff... [1,0,2]\n",
      "vcNAWiLM4dR7D2nww... 2013-04-19 _ePLBPrkrf4bhyiKW... 1     I don't know what... review Qrs3EICADUKNFoUq2... [0,0,0]\n",
      "vcNAWiLM4dR7D2nww... 2014-01-02 kMu0knsSUFW2DZXqK... 5     Top notch doctor ... review jE5xVugujSaskAoh2... [0,0,0]\n",
      "vcNAWiLM4dR7D2nww... 2014-01-08 onDPFgNZpMk-bT1zl... 5     Dr. Eric Goldberg... review QnhQ8G51XbUpVEyWY... [0,0,0]\n",
      "vcNAWiLM4dR7D2nww... 2014-08-01 bOJD0Kc3wGioat3oS... 1     I'm writing this ... review tAB7GJpUuaKF4W-3P... [0,0,1]\n",
      "vcNAWiLM4dR7D2nww... 2014-12-12 QzjRXUNSGk3PySEcg... 5     I love Dr. Goldbe... review GP-h9colXgkT79BW7... [0,0,0]\n",
      "UsFtqoBl7naz8AVUB... 2013-11-08 Di3exaUCFNw1V4kSN... 5     All the food is g... review uK8tzraOp4M5u3uYr... [0,0,0]\n",
      "UsFtqoBl7naz8AVUB... 2014-03-29 0Lua2-PbqEQMjD9r8... 3     We checked this p... review I_47G-R2_egp7ME5u... [0,0,0]\n",
      "UsFtqoBl7naz8AVUB... 2014-10-29 7N9j5YbBHBW6qguE5... 2     Wing sauce is lik... review PP_xoMSYlGr2pb67B... [0,0,0]\n",
      "UsFtqoBl7naz8AVUB... 2014-11-28 mjCJR33jvUNt41iJC... 4     Cold cheap beer. ... review JPPhyFE-UE453zA6K... [1,1,1]\n",
      "cE27W9VPgO88Qxe4o... 2012-08-19 XsA6AojkWjOHA4Fmu... 3     Decent range some... review fhNxoMwwTipzjO8A9... [0,0,1]\n",
      "cE27W9VPgO88Qxe4o... 2013-04-18 rkD7UDbQ9VM3Va6bI... 1     Owning a driving ... review -6rEfobYjMxpUWLNx... [0,0,1]\n",
      "cE27W9VPgO88Qxe4o... 2013-07-14 WExNE-f93SL4D1q8s... 1     This place is abs... review KZuaJtFindQM9x2Zo... [0,0,0]\n",
      "cE27W9VPgO88Qxe4o... 2013-08-16 iS34GJhMkkt9kCoTJ... 4     Before I finally ... review H9E5VejGEsRhwcbOM... [0,0,0]\n",
      "cE27W9VPgO88Qxe4o... 2014-07-11 S-G0D8Cy7PnqShoBZ... 4     I drove by yester... review ljwgUJowB69klaR8A... [0,0,0]\n",
      "HZdLhv6COCleJMo7n... 2013-06-10 fBQ69-NU9ZyTjjS7T... 5     THANK YOU ROB! i ... review JbAeIYc89Sk8SWmrB... [7,3,7]\n"
     ]
    }
   ],
   "source": [
    "review.show()"
   ]
  },
  {
   "cell_type": "code",
   "execution_count": 7,
   "metadata": {
    "collapsed": false
   },
   "outputs": [
    {
     "name": "stdout",
     "output_type": "stream",
     "text": [
      "root\n",
      " |-- business_id: string (nullable = true)\n",
      " |-- date: string (nullable = true)\n",
      " |-- likes: long (nullable = true)\n",
      " |-- text: string (nullable = true)\n",
      " |-- type: string (nullable = true)\n",
      " |-- user_id: string (nullable = true)\n",
      "\n"
     ]
    }
   ],
   "source": [
    "tip.printSchema()"
   ]
  },
  {
   "cell_type": "code",
   "execution_count": 13,
   "metadata": {
    "collapsed": false
   },
   "outputs": [
    {
     "name": "stdout",
     "output_type": "stream",
     "text": [
      "business_id          date       likes text                 type user_id             \n",
      "cE27W9VPgO88Qxe4o... 2013-04-18 0     Don't waste your ... tip  -6rEfobYjMxpUWLNx...\n",
      "mVHrayjG3uZ_RLHkL... 2013-01-06 0     Your GPS will not... tip  EZ0r9dKKtEGVx2Cdn...\n",
      "KayYbHCt-RkbGcPdG... 2013-12-03 0     Great drink speci... tip  xb6zEQCw9I-Gl0g06...\n",
      "wJr6kSA5dchdgOdwH... 2013-07-22 0     Sarah rocks! Best... tip  fvTivrsJoUMYXnOJw...\n",
      "fNGIbpazjTRdXgwRY... 2013-04-22 0     Decent selection ... tip  6GrH6gp09pqYykGv8...\n",
      "b9WZJp5L1RZr4F1nx... 2012-03-17 0     I'm in heaven.       tip  gl46Pxc4OzLai8JVy...\n",
      "b9WZJp5L1RZr4F1nx... 2012-08-27 2     If you haven't co... tip  6GrH6gp09pqYykGv8...\n",
      "b9WZJp5L1RZr4F1nx... 2013-10-17 0     Wonderful food, g... tip  hoThsXW1ndoytxVwc...\n",
      "b9WZJp5L1RZr4F1nx... 2011-11-09 0     Breakfast with Da... tip  AY-W59xCVPDaCaOKJ...\n",
      "zaXDakTd3RXyOa7sM... 2014-11-08 0     Like it all. Grat... tip  FyQ9wsYI-17OTSZTn...\n",
      "WETE_LykpcnrC1sFc... 2010-01-22 0     A quick pint of G... tip  B5VpKiCdRS8OHHjvh...\n",
      "SQ0j7bgSTazkVQlF5... 2014-08-02 0     Slow service--ann... tip  9OZH1Ecw-qUkCW5MS...\n",
      "wqu7ILomIOPSduRwo... 2011-12-17 0     Grits!               tip  bvu13GyOUwhEjPum2...\n",
      "wqu7ILomIOPSduRwo... 2012-05-18 0     Giving this place... tip  5nIkRQ6Ip_SMCg7zD...\n",
      "wqu7ILomIOPSduRwo... 2012-06-16 0     Trying this place... tip  5nIkRQ6Ip_SMCg7zD...\n",
      "wqu7ILomIOPSduRwo... 2012-09-06 0     I must say a few ... tip  5nIkRQ6Ip_SMCg7zD...\n",
      "wqu7ILomIOPSduRwo... 2012-12-08 0     Much improved!!      tip  5nIkRQ6Ip_SMCg7zD...\n",
      "wqu7ILomIOPSduRwo... 2014-04-27 0     This is the secon... tip  UxfFAw2-cTpeWvRRO...\n",
      "P1fJb2WQ1mXoiudj8... 2011-03-14 0     Terrible service.... tip  Lbdzh6Qn5S1O5ENrr...\n",
      "P1fJb2WQ1mXoiudj8... 2011-07-17 0     Try the baby clam... tip  UXQzUyOnihbH0K_yC...\n"
     ]
    }
   ],
   "source": [
    "tip.show()"
   ]
  },
  {
   "cell_type": "code",
   "execution_count": 8,
   "metadata": {
    "collapsed": false,
    "scrolled": true
   },
   "outputs": [
    {
     "name": "stdout",
     "output_type": "stream",
     "text": [
      "root\n",
      " |-- average_stars: double (nullable = true)\n",
      " |-- compliments: struct (nullable = true)\n",
      " |    |-- cool: long (nullable = true)\n",
      " |    |-- cute: long (nullable = true)\n",
      " |    |-- funny: long (nullable = true)\n",
      " |    |-- hot: long (nullable = true)\n",
      " |    |-- list: long (nullable = true)\n",
      " |    |-- more: long (nullable = true)\n",
      " |    |-- note: long (nullable = true)\n",
      " |    |-- photos: long (nullable = true)\n",
      " |    |-- plain: long (nullable = true)\n",
      " |    |-- profile: long (nullable = true)\n",
      " |    |-- writer: long (nullable = true)\n",
      " |-- elite: array (nullable = true)\n",
      " |    |-- element: long (containsNull = true)\n",
      " |-- fans: long (nullable = true)\n",
      " |-- friends: array (nullable = true)\n",
      " |    |-- element: string (containsNull = true)\n",
      " |-- name: string (nullable = true)\n",
      " |-- review_count: long (nullable = true)\n",
      " |-- type: string (nullable = true)\n",
      " |-- user_id: string (nullable = true)\n",
      " |-- votes: struct (nullable = true)\n",
      " |    |-- cool: long (nullable = true)\n",
      " |    |-- funny: long (nullable = true)\n",
      " |    |-- useful: long (nullable = true)\n",
      " |-- yelping_since: string (nullable = true)\n",
      "\n"
     ]
    }
   ],
   "source": [
    "user.printSchema()"
   ]
  },
  {
   "cell_type": "code",
   "execution_count": 14,
   "metadata": {
    "collapsed": true
   },
   "outputs": [
    {
     "name": "stdout",
     "output_type": "stream",
     "text": [
      "average_stars compliments          elite                fans friends              name      review_count type user_id              votes               yelping_since\n",
      "4.14          [78,15,11,48,null... ArrayBuffer(2005,... 69   ArrayBuffer(rpOyq... Russel    108          user 18kPq7GPye-YQ3LyK... [245,166,278]       2004-10      \n",
      "3.64          [1521,209,561,103... ArrayBuffer(2005,... 1012 ArrayBuffer(18kPq... Jeremy    1233         user rpOyqD_893cqmDAtJ... [9837,6849,12642]   2004-10      \n",
      "3.59          [145,23,122,102,4... ArrayBuffer(2005,... 93   ArrayBuffer(18kPq... Michael   442          user 4U9kSBLuBDU391x6b... [727,907,1445]      2004-10      \n",
      "4.64          [null,2,null,null... ArrayBuffer()        2    ArrayBuffer(18kPq... Ken       11           user fHtTaujcyKvXglE33... [5,1,11]            2004-10      \n",
      "3.8           [1,2,null,1,null,... ArrayBuffer(2005)    3    ArrayBuffer(rpOyq... Katherine 66           user SIBCL7HBkrP4llolm... [11,10,34]          2004-10      \n",
      "4.35          [3420,274,1462,25... ArrayBuffer(2005,... 777  ArrayBuffer(18kPq... Joan      1589         user 8J4IIYcqBlFch8T90... [16174,12453,16940] 2004-10      \n",
      "3.52          [3,1,1,1,5,null,1... ArrayBuffer(2007)    7    ArrayBuffer(18kPq... Ryo       170          user wy6l_zUo7SN0qrvNR... [43,35,86]          2004-10      \n",
      "4.44          [14,4,2,8,1,1,5,n... ArrayBuffer(2005,... 6    ArrayBuffer(rpOyq... George    54           user ysYmC-ufbdmVEX9yA... [25,39,38]          2004-10      \n",
      "3.86          [1,null,null,1,nu... ArrayBuffer(2005)    2    ArrayBuffer(i63u3... Mary      59           user WPOKvkacSKHx_bIG1... [30,25,118]         2004-10      \n",
      "3.55          [3,1,8,5,null,2,3... ArrayBuffer()        6    ArrayBuffer(rpOyq... Nader     96           user UTS9XcT14H2ZscRIf... [39,40,207]         2004-10      \n",
      "4.3           [3,null,null,1,nu... ArrayBuffer()        0    ArrayBuffer(4U9kS... Joseph    20           user qL7Astun3i7qwr2IL... [15,6,28]           2004-10      \n",
      "4.02          [211,82,70,265,3,... ArrayBuffer(2005,... 73   ArrayBuffer(Xejvg... Helen     979          user ZWOj6LmzwGvMDh-A8... [1914,1105,2381]    2004-10      \n",
      "3.74          [1,2,null,null,nu... ArrayBuffer()        5    ArrayBuffer(18kPq... Yishan    42           user HDQixQ-WZEV0LVPJl... [18,42,43]          2004-10      \n",
      "3.15          [1,null,null,null... ArrayBuffer()        2    ArrayBuffer(e47HK... N         192          user iToySZiFejGsgzWc2... [22,45,179]         2004-10      \n",
      "4.0           [58,2,15,24,1,3,1... ArrayBuffer(2008,... 11   ArrayBuffer(gzvlt... Suzie     129          user LdS4fnqUebNW-MYd1... [424,331,521]       2008-02      \n",
      "4.04          [8,1,1,3,null,nul... ArrayBuffer(2012,... 8    ArrayBuffer(23bCU... Steven    350          user za5Q2uYrTmky9w_3h... [68,58,229]         2008-11      \n",
      "3.71          [null,null,null,n... ArrayBuffer()        0    ArrayBuffer()        Amanda    6            user HI-QmpsYxP5AJtRPa... [1,0,26]            2008-11      \n",
      "4.18          [null,null,1,null... ArrayBuffer()        0    ArrayBuffer(qy5Fa... J         10           user HZJ9qzZlXC8xeC8v7... [6,0,11]            2008-11      \n",
      "4.0           [1,null,null,null... ArrayBuffer()        2    ArrayBuffer(IdTEv... Joe       7            user y6tOSRh3Xng3XKjVF... [1,0,5]             2008-11      \n",
      "3.79          [2,null,null,1,nu... ArrayBuffer()        1    ArrayBuffer(J3rNW... King      19           user AzoZZ1hRToPsnUPXe... [11,6,39]           2008-11      \n"
     ]
    }
   ],
   "source": [
    "user.show()"
   ]
  },
  {
   "cell_type": "code",
   "execution_count": 9,
   "metadata": {
    "collapsed": true
   },
   "outputs": [
    {
     "name": "stdout",
     "output_type": "stream",
     "text": [
      "business_id          checkin_info         type   \n",
      "cE27W9VPgO88Qxe4o... [null,null,null,n... checkin\n",
      "mVHrayjG3uZ_RLHkL... [null,null,null,n... checkin\n",
      "KayYbHCt-RkbGcPdG... [null,null,null,n... checkin\n",
      "wJr6kSA5dchdgOdwH... [null,null,null,n... checkin\n",
      "yXuao0pFz1AxB21vJ... [null,null,null,n... checkin\n",
      "fNGIbpazjTRdXgwRY... [null,null,null,n... checkin\n",
      "b9WZJp5L1RZr4F1nx... [null,null,null,n... checkin\n",
      "zaXDakTd3RXyOa7sM... [null,null,null,n... checkin\n",
      "zgy27FSnvwdINfk5c... [null,null,null,n... checkin\n",
      "WETE_LykpcnrC1sFc... [null,null,null,n... checkin\n",
      "SQ0j7bgSTazkVQlF5... [null,null,null,n... checkin\n",
      "wqu7ILomIOPSduRwo... [null,null,null,n... checkin\n",
      "P1fJb2WQ1mXoiudj8... [null,null,null,n... checkin\n",
      "PK6aSizckHFWk8i0o... [null,null,null,n... checkin\n",
      "3gmBc0qN_LtGbZAjT... [null,null,null,n... checkin\n",
      "yHTLTr-QN-loO_7Xo... [null,null,null,n... checkin\n",
      "6ilJq_05xRgek_8qU... [null,1,null,null... checkin\n",
      "MKyk4F4HSzHF8v-4c... [null,null,null,n... checkin\n",
      "gClSqcwuLsgyZRCzh... [null,null,null,n... checkin\n",
      "1qCuOcks5HRv67OHo... [null,null,null,n... checkin\n"
     ]
    }
   ],
   "source": [
    "checkin.show()"
   ]
  },
  {
   "cell_type": "code",
   "execution_count": null,
   "metadata": {
    "collapsed": true
   },
   "outputs": [],
   "source": []
  },
  {
   "cell_type": "code",
   "execution_count": null,
   "metadata": {
    "collapsed": true
   },
   "outputs": [],
   "source": []
  }
 ],
 "metadata": {
  "kernelspec": {
   "display_name": "Python 2",
   "language": "python",
   "name": "python2"
  },
  "language_info": {
   "codemirror_mode": {
    "name": "ipython",
    "version": 2
   },
   "file_extension": ".py",
   "mimetype": "text/x-python",
   "name": "python",
   "nbconvert_exporter": "python",
   "pygments_lexer": "ipython2",
   "version": "2.7.9"
  }
 },
 "nbformat": 4,
 "nbformat_minor": 0
}
